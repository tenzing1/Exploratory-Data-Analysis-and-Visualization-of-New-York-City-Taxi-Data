{
  "cells": [
    {
      "cell_type": "markdown",
      "metadata": {
        "id": "view-in-github",
        "colab_type": "text"
      },
      "source": [
        "<a href=\"https://colab.research.google.com/github/tenzing1/Exploratory-Data-Analysis-and-Visualization-of-New-York-City-Taxi-Data/blob/main/1_Project_Exploratory_Data_Analysis_and_Visualization_of_New_York_City_Taxi_Data_.ipynb\" target=\"_parent\"><img src=\"https://colab.research.google.com/assets/colab-badge.svg\" alt=\"Open In Colab\"/></a>"
      ]
    },
    {
      "cell_type": "markdown",
      "metadata": {
        "id": "DtNBZFHO3M7n"
      },
      "source": [
        "# **Exploratory Data Analysis and Visualization of New York City Taxi Data**\n"
      ]
    },
    {
      "cell_type": "markdown",
      "metadata": {
        "id": "rgSbVJvomcVa"
      },
      "source": [
        "#  Exploratory data analysis\n",
        "\n",
        "In this activity, we will examine data provided and prepare it for analysis. We will also design a professional data visualization that tells a story, and will help data-driven decisions for business needs.\n",
        "\n",
        "\n",
        "  \n",
        "**The goal** is to clean data set and create a visualization.\n",
        "<br/>  \n",
        "*This activity has 4 parts:*\n",
        "\n",
        "**Part 1:** Imports, links, and loading\n",
        "\n",
        "**Part 2:** Data Exploration\n",
        "*   Data cleaning\n",
        "\n",
        "\n",
        "**Part 3:** Building visualizations\n",
        "\n",
        "**Part 4:** Evaluate and share results\n",
        "\n",
        "<br/>\n",
        "\n",
        "\n"
      ]
    },
    {
      "cell_type": "markdown",
      "metadata": {
        "id": "p5CHWd9rxIyp"
      },
      "source": [
        "# **Visualize a story in Tableau and Python**"
      ]
    },
    {
      "cell_type": "markdown",
      "metadata": {
        "id": "rdR5eWbYx8GE"
      },
      "source": [
        "# **PACE stages**\n"
      ]
    },
    {
      "cell_type": "markdown",
      "metadata": {
        "id": "misePRfxGvuc"
      },
      "source": [
        "Throughout these project notebooks, you'll see references to the problem-solving framework PACE. The following notebook components are labeled with the respective PACE stage: Plan, Analyze, Construct, and Execute."
      ]
    },
    {
      "cell_type": "code",
      "execution_count": null,
      "metadata": {
        "id": "EO8vKZI8x8GF"
      },
      "outputs": [],
      "source": [
        "# Import packages and libraries\n",
        "\n",
        "import pandas as pd\n",
        "import numpy as np\n",
        "import matplotlib.pyplot as plt\n",
        "import datetime as dt\n",
        "import seaborn as sns"
      ]
    },
    {
      "cell_type": "markdown",
      "metadata": {
        "id": "Ya2lHq9DGvud"
      },
      "source": [
        "**Note:** As shown in this cell, the dataset has been automatically loaded in for you. You do not need to download the .csv file, or provide more code, in order to access the dataset and proceed with this lab. Please continue with this activity by completing the following instructions."
      ]
    },
    {
      "cell_type": "code",
      "execution_count": null,
      "metadata": {
        "id": "w7XSDxoqyF9D"
      },
      "outputs": [],
      "source": [
        "# Load dataset into dataframe\n",
        "df = pd.read_csv('2017_Yellow_Taxi_Trip_Data.csv')"
      ]
    },
    {
      "cell_type": "markdown",
      "metadata": {
        "id": "3mipEiyZx8GI"
      },
      "source": [
        "\n",
        "\n",
        "## PACE: Analyze\n"
      ]
    },
    {
      "cell_type": "markdown",
      "metadata": {
        "id": "n09krlKWRw_2"
      },
      "source": [
        "### Task 2a. Data exploration and cleaning\n",
        "\n",
        "Decide which columns are applicable\n",
        "\n",
        "The first step is to assess your data. Check the Data Source page on Tableau Public to get a sense of the size, shape and makeup of the data set. Then answer these questions to yourself:\n",
        "\n",
        "Given our scenario, which data columns are most applicable?\n",
        "Which data columns can I eliminate, knowing they won’t solve our problem scenario?\n",
        "\n",
        "Consider functions that help you understand and structure the data.\n",
        "\n",
        "*    head()\n",
        "*    describe()\n",
        "*    info()\n",
        "*    groupby()\n",
        "*    sortby()\n"
      ]
    },
    {
      "cell_type": "markdown",
      "metadata": {
        "id": "uk6zuv_mUU2k"
      },
      "source": [
        "Start by discovering, using head and size."
      ]
    },
    {
      "cell_type": "code",
      "execution_count": null,
      "metadata": {
        "id": "cBOUo5p-tbib",
        "outputId": "97dd52f1-aed9-4906-aa71-347e43710ddf"
      },
      "outputs": [
        {
          "data": {
            "text/html": [
              "<div>\n",
              "<style scoped>\n",
              "    .dataframe tbody tr th:only-of-type {\n",
              "        vertical-align: middle;\n",
              "    }\n",
              "\n",
              "    .dataframe tbody tr th {\n",
              "        vertical-align: top;\n",
              "    }\n",
              "\n",
              "    .dataframe thead th {\n",
              "        text-align: right;\n",
              "    }\n",
              "</style>\n",
              "<table border=\"1\" class=\"dataframe\">\n",
              "  <thead>\n",
              "    <tr style=\"text-align: right;\">\n",
              "      <th></th>\n",
              "      <th>Unnamed: 0</th>\n",
              "      <th>VendorID</th>\n",
              "      <th>tpep_pickup_datetime</th>\n",
              "      <th>tpep_dropoff_datetime</th>\n",
              "      <th>passenger_count</th>\n",
              "      <th>trip_distance</th>\n",
              "      <th>RatecodeID</th>\n",
              "      <th>store_and_fwd_flag</th>\n",
              "      <th>PULocationID</th>\n",
              "      <th>DOLocationID</th>\n",
              "      <th>payment_type</th>\n",
              "      <th>fare_amount</th>\n",
              "      <th>extra</th>\n",
              "      <th>mta_tax</th>\n",
              "      <th>tip_amount</th>\n",
              "      <th>tolls_amount</th>\n",
              "      <th>improvement_surcharge</th>\n",
              "      <th>total_amount</th>\n",
              "    </tr>\n",
              "  </thead>\n",
              "  <tbody>\n",
              "    <tr>\n",
              "      <th>0</th>\n",
              "      <td>24870114</td>\n",
              "      <td>2</td>\n",
              "      <td>03/25/2017 8:55:43 AM</td>\n",
              "      <td>03/25/2017 9:09:47 AM</td>\n",
              "      <td>6</td>\n",
              "      <td>3.34</td>\n",
              "      <td>1</td>\n",
              "      <td>N</td>\n",
              "      <td>100</td>\n",
              "      <td>231</td>\n",
              "      <td>1</td>\n",
              "      <td>13.0</td>\n",
              "      <td>0.0</td>\n",
              "      <td>0.5</td>\n",
              "      <td>2.76</td>\n",
              "      <td>0.0</td>\n",
              "      <td>0.3</td>\n",
              "      <td>16.56</td>\n",
              "    </tr>\n",
              "    <tr>\n",
              "      <th>1</th>\n",
              "      <td>35634249</td>\n",
              "      <td>1</td>\n",
              "      <td>04/11/2017 2:53:28 PM</td>\n",
              "      <td>04/11/2017 3:19:58 PM</td>\n",
              "      <td>1</td>\n",
              "      <td>1.80</td>\n",
              "      <td>1</td>\n",
              "      <td>N</td>\n",
              "      <td>186</td>\n",
              "      <td>43</td>\n",
              "      <td>1</td>\n",
              "      <td>16.0</td>\n",
              "      <td>0.0</td>\n",
              "      <td>0.5</td>\n",
              "      <td>4.00</td>\n",
              "      <td>0.0</td>\n",
              "      <td>0.3</td>\n",
              "      <td>20.80</td>\n",
              "    </tr>\n",
              "    <tr>\n",
              "      <th>2</th>\n",
              "      <td>106203690</td>\n",
              "      <td>1</td>\n",
              "      <td>12/15/2017 7:26:56 AM</td>\n",
              "      <td>12/15/2017 7:34:08 AM</td>\n",
              "      <td>1</td>\n",
              "      <td>1.00</td>\n",
              "      <td>1</td>\n",
              "      <td>N</td>\n",
              "      <td>262</td>\n",
              "      <td>236</td>\n",
              "      <td>1</td>\n",
              "      <td>6.5</td>\n",
              "      <td>0.0</td>\n",
              "      <td>0.5</td>\n",
              "      <td>1.45</td>\n",
              "      <td>0.0</td>\n",
              "      <td>0.3</td>\n",
              "      <td>8.75</td>\n",
              "    </tr>\n",
              "    <tr>\n",
              "      <th>3</th>\n",
              "      <td>38942136</td>\n",
              "      <td>2</td>\n",
              "      <td>05/07/2017 1:17:59 PM</td>\n",
              "      <td>05/07/2017 1:48:14 PM</td>\n",
              "      <td>1</td>\n",
              "      <td>3.70</td>\n",
              "      <td>1</td>\n",
              "      <td>N</td>\n",
              "      <td>188</td>\n",
              "      <td>97</td>\n",
              "      <td>1</td>\n",
              "      <td>20.5</td>\n",
              "      <td>0.0</td>\n",
              "      <td>0.5</td>\n",
              "      <td>6.39</td>\n",
              "      <td>0.0</td>\n",
              "      <td>0.3</td>\n",
              "      <td>27.69</td>\n",
              "    </tr>\n",
              "    <tr>\n",
              "      <th>4</th>\n",
              "      <td>30841670</td>\n",
              "      <td>2</td>\n",
              "      <td>04/15/2017 11:32:20 PM</td>\n",
              "      <td>04/15/2017 11:49:03 PM</td>\n",
              "      <td>1</td>\n",
              "      <td>4.37</td>\n",
              "      <td>1</td>\n",
              "      <td>N</td>\n",
              "      <td>4</td>\n",
              "      <td>112</td>\n",
              "      <td>2</td>\n",
              "      <td>16.5</td>\n",
              "      <td>0.5</td>\n",
              "      <td>0.5</td>\n",
              "      <td>0.00</td>\n",
              "      <td>0.0</td>\n",
              "      <td>0.3</td>\n",
              "      <td>17.80</td>\n",
              "    </tr>\n",
              "  </tbody>\n",
              "</table>\n",
              "</div>"
            ],
            "text/plain": [
              "   Unnamed: 0  VendorID    tpep_pickup_datetime   tpep_dropoff_datetime  \\\n",
              "0    24870114         2   03/25/2017 8:55:43 AM   03/25/2017 9:09:47 AM   \n",
              "1    35634249         1   04/11/2017 2:53:28 PM   04/11/2017 3:19:58 PM   \n",
              "2   106203690         1   12/15/2017 7:26:56 AM   12/15/2017 7:34:08 AM   \n",
              "3    38942136         2   05/07/2017 1:17:59 PM   05/07/2017 1:48:14 PM   \n",
              "4    30841670         2  04/15/2017 11:32:20 PM  04/15/2017 11:49:03 PM   \n",
              "\n",
              "   passenger_count  trip_distance  RatecodeID store_and_fwd_flag  \\\n",
              "0                6           3.34           1                  N   \n",
              "1                1           1.80           1                  N   \n",
              "2                1           1.00           1                  N   \n",
              "3                1           3.70           1                  N   \n",
              "4                1           4.37           1                  N   \n",
              "\n",
              "   PULocationID  DOLocationID  payment_type  fare_amount  extra  mta_tax  \\\n",
              "0           100           231             1         13.0    0.0      0.5   \n",
              "1           186            43             1         16.0    0.0      0.5   \n",
              "2           262           236             1          6.5    0.0      0.5   \n",
              "3           188            97             1         20.5    0.0      0.5   \n",
              "4             4           112             2         16.5    0.5      0.5   \n",
              "\n",
              "   tip_amount  tolls_amount  improvement_surcharge  total_amount  \n",
              "0        2.76           0.0                    0.3         16.56  \n",
              "1        4.00           0.0                    0.3         20.80  \n",
              "2        1.45           0.0                    0.3          8.75  \n",
              "3        6.39           0.0                    0.3         27.69  \n",
              "4        0.00           0.0                    0.3         17.80  "
            ]
          },
          "execution_count": 4,
          "metadata": {},
          "output_type": "execute_result"
        }
      ],
      "source": [
        "\n",
        "df.head()"
      ]
    },
    {
      "cell_type": "code",
      "execution_count": null,
      "metadata": {
        "id": "GvT82D1qyF9F",
        "outputId": "37167d96-bd35-4c55-927e-c16e0e4c0124"
      },
      "outputs": [
        {
          "data": {
            "text/plain": [
              "408582"
            ]
          },
          "execution_count": 5,
          "metadata": {},
          "output_type": "execute_result"
        }
      ],
      "source": [
        "#==> ENTER YOUR CODE HERE\n",
        "df.size"
      ]
    },
    {
      "cell_type": "markdown",
      "metadata": {
        "id": "WulP4lZ9UVgy"
      },
      "source": [
        "Use describe..."
      ]
    },
    {
      "cell_type": "code",
      "execution_count": null,
      "metadata": {
        "id": "xMpkdNQ0UPmW",
        "outputId": "9573841a-55d7-4c21-e095-48c567ed4d58"
      },
      "outputs": [
        {
          "data": {
            "text/html": [
              "<div>\n",
              "<style scoped>\n",
              "    .dataframe tbody tr th:only-of-type {\n",
              "        vertical-align: middle;\n",
              "    }\n",
              "\n",
              "    .dataframe tbody tr th {\n",
              "        vertical-align: top;\n",
              "    }\n",
              "\n",
              "    .dataframe thead th {\n",
              "        text-align: right;\n",
              "    }\n",
              "</style>\n",
              "<table border=\"1\" class=\"dataframe\">\n",
              "  <thead>\n",
              "    <tr style=\"text-align: right;\">\n",
              "      <th></th>\n",
              "      <th>Unnamed: 0</th>\n",
              "      <th>VendorID</th>\n",
              "      <th>passenger_count</th>\n",
              "      <th>trip_distance</th>\n",
              "      <th>RatecodeID</th>\n",
              "      <th>PULocationID</th>\n",
              "      <th>DOLocationID</th>\n",
              "      <th>payment_type</th>\n",
              "      <th>fare_amount</th>\n",
              "      <th>extra</th>\n",
              "      <th>mta_tax</th>\n",
              "      <th>tip_amount</th>\n",
              "      <th>tolls_amount</th>\n",
              "      <th>improvement_surcharge</th>\n",
              "      <th>total_amount</th>\n",
              "    </tr>\n",
              "  </thead>\n",
              "  <tbody>\n",
              "    <tr>\n",
              "      <th>count</th>\n",
              "      <td>2.269900e+04</td>\n",
              "      <td>22699.000000</td>\n",
              "      <td>22699.000000</td>\n",
              "      <td>22699.000000</td>\n",
              "      <td>22699.000000</td>\n",
              "      <td>22699.000000</td>\n",
              "      <td>22699.000000</td>\n",
              "      <td>22699.000000</td>\n",
              "      <td>22699.000000</td>\n",
              "      <td>22699.000000</td>\n",
              "      <td>22699.000000</td>\n",
              "      <td>22699.000000</td>\n",
              "      <td>22699.000000</td>\n",
              "      <td>22699.000000</td>\n",
              "      <td>22699.000000</td>\n",
              "    </tr>\n",
              "    <tr>\n",
              "      <th>mean</th>\n",
              "      <td>5.675849e+07</td>\n",
              "      <td>1.556236</td>\n",
              "      <td>1.642319</td>\n",
              "      <td>2.913313</td>\n",
              "      <td>1.043394</td>\n",
              "      <td>162.412353</td>\n",
              "      <td>161.527997</td>\n",
              "      <td>1.336887</td>\n",
              "      <td>13.026629</td>\n",
              "      <td>0.333275</td>\n",
              "      <td>0.497445</td>\n",
              "      <td>1.835781</td>\n",
              "      <td>0.312542</td>\n",
              "      <td>0.299551</td>\n",
              "      <td>16.310502</td>\n",
              "    </tr>\n",
              "    <tr>\n",
              "      <th>std</th>\n",
              "      <td>3.274493e+07</td>\n",
              "      <td>0.496838</td>\n",
              "      <td>1.285231</td>\n",
              "      <td>3.653171</td>\n",
              "      <td>0.708391</td>\n",
              "      <td>66.633373</td>\n",
              "      <td>70.139691</td>\n",
              "      <td>0.496211</td>\n",
              "      <td>13.243791</td>\n",
              "      <td>0.463097</td>\n",
              "      <td>0.039465</td>\n",
              "      <td>2.800626</td>\n",
              "      <td>1.399212</td>\n",
              "      <td>0.015673</td>\n",
              "      <td>16.097295</td>\n",
              "    </tr>\n",
              "    <tr>\n",
              "      <th>min</th>\n",
              "      <td>1.212700e+04</td>\n",
              "      <td>1.000000</td>\n",
              "      <td>0.000000</td>\n",
              "      <td>0.000000</td>\n",
              "      <td>1.000000</td>\n",
              "      <td>1.000000</td>\n",
              "      <td>1.000000</td>\n",
              "      <td>1.000000</td>\n",
              "      <td>-120.000000</td>\n",
              "      <td>-1.000000</td>\n",
              "      <td>-0.500000</td>\n",
              "      <td>0.000000</td>\n",
              "      <td>0.000000</td>\n",
              "      <td>-0.300000</td>\n",
              "      <td>-120.300000</td>\n",
              "    </tr>\n",
              "    <tr>\n",
              "      <th>25%</th>\n",
              "      <td>2.852056e+07</td>\n",
              "      <td>1.000000</td>\n",
              "      <td>1.000000</td>\n",
              "      <td>0.990000</td>\n",
              "      <td>1.000000</td>\n",
              "      <td>114.000000</td>\n",
              "      <td>112.000000</td>\n",
              "      <td>1.000000</td>\n",
              "      <td>6.500000</td>\n",
              "      <td>0.000000</td>\n",
              "      <td>0.500000</td>\n",
              "      <td>0.000000</td>\n",
              "      <td>0.000000</td>\n",
              "      <td>0.300000</td>\n",
              "      <td>8.750000</td>\n",
              "    </tr>\n",
              "    <tr>\n",
              "      <th>50%</th>\n",
              "      <td>5.673150e+07</td>\n",
              "      <td>2.000000</td>\n",
              "      <td>1.000000</td>\n",
              "      <td>1.610000</td>\n",
              "      <td>1.000000</td>\n",
              "      <td>162.000000</td>\n",
              "      <td>162.000000</td>\n",
              "      <td>1.000000</td>\n",
              "      <td>9.500000</td>\n",
              "      <td>0.000000</td>\n",
              "      <td>0.500000</td>\n",
              "      <td>1.350000</td>\n",
              "      <td>0.000000</td>\n",
              "      <td>0.300000</td>\n",
              "      <td>11.800000</td>\n",
              "    </tr>\n",
              "    <tr>\n",
              "      <th>75%</th>\n",
              "      <td>8.537452e+07</td>\n",
              "      <td>2.000000</td>\n",
              "      <td>2.000000</td>\n",
              "      <td>3.060000</td>\n",
              "      <td>1.000000</td>\n",
              "      <td>233.000000</td>\n",
              "      <td>233.000000</td>\n",
              "      <td>2.000000</td>\n",
              "      <td>14.500000</td>\n",
              "      <td>0.500000</td>\n",
              "      <td>0.500000</td>\n",
              "      <td>2.450000</td>\n",
              "      <td>0.000000</td>\n",
              "      <td>0.300000</td>\n",
              "      <td>17.800000</td>\n",
              "    </tr>\n",
              "    <tr>\n",
              "      <th>max</th>\n",
              "      <td>1.134863e+08</td>\n",
              "      <td>2.000000</td>\n",
              "      <td>6.000000</td>\n",
              "      <td>33.960000</td>\n",
              "      <td>99.000000</td>\n",
              "      <td>265.000000</td>\n",
              "      <td>265.000000</td>\n",
              "      <td>4.000000</td>\n",
              "      <td>999.990000</td>\n",
              "      <td>4.500000</td>\n",
              "      <td>0.500000</td>\n",
              "      <td>200.000000</td>\n",
              "      <td>19.100000</td>\n",
              "      <td>0.300000</td>\n",
              "      <td>1200.290000</td>\n",
              "    </tr>\n",
              "  </tbody>\n",
              "</table>\n",
              "</div>"
            ],
            "text/plain": [
              "         Unnamed: 0      VendorID  passenger_count  trip_distance  \\\n",
              "count  2.269900e+04  22699.000000     22699.000000   22699.000000   \n",
              "mean   5.675849e+07      1.556236         1.642319       2.913313   \n",
              "std    3.274493e+07      0.496838         1.285231       3.653171   \n",
              "min    1.212700e+04      1.000000         0.000000       0.000000   \n",
              "25%    2.852056e+07      1.000000         1.000000       0.990000   \n",
              "50%    5.673150e+07      2.000000         1.000000       1.610000   \n",
              "75%    8.537452e+07      2.000000         2.000000       3.060000   \n",
              "max    1.134863e+08      2.000000         6.000000      33.960000   \n",
              "\n",
              "         RatecodeID  PULocationID  DOLocationID  payment_type   fare_amount  \\\n",
              "count  22699.000000  22699.000000  22699.000000  22699.000000  22699.000000   \n",
              "mean       1.043394    162.412353    161.527997      1.336887     13.026629   \n",
              "std        0.708391     66.633373     70.139691      0.496211     13.243791   \n",
              "min        1.000000      1.000000      1.000000      1.000000   -120.000000   \n",
              "25%        1.000000    114.000000    112.000000      1.000000      6.500000   \n",
              "50%        1.000000    162.000000    162.000000      1.000000      9.500000   \n",
              "75%        1.000000    233.000000    233.000000      2.000000     14.500000   \n",
              "max       99.000000    265.000000    265.000000      4.000000    999.990000   \n",
              "\n",
              "              extra       mta_tax    tip_amount  tolls_amount  \\\n",
              "count  22699.000000  22699.000000  22699.000000  22699.000000   \n",
              "mean       0.333275      0.497445      1.835781      0.312542   \n",
              "std        0.463097      0.039465      2.800626      1.399212   \n",
              "min       -1.000000     -0.500000      0.000000      0.000000   \n",
              "25%        0.000000      0.500000      0.000000      0.000000   \n",
              "50%        0.000000      0.500000      1.350000      0.000000   \n",
              "75%        0.500000      0.500000      2.450000      0.000000   \n",
              "max        4.500000      0.500000    200.000000     19.100000   \n",
              "\n",
              "       improvement_surcharge  total_amount  \n",
              "count           22699.000000  22699.000000  \n",
              "mean                0.299551     16.310502  \n",
              "std                 0.015673     16.097295  \n",
              "min                -0.300000   -120.300000  \n",
              "25%                 0.300000      8.750000  \n",
              "50%                 0.300000     11.800000  \n",
              "75%                 0.300000     17.800000  \n",
              "max                 0.300000   1200.290000  "
            ]
          },
          "execution_count": 6,
          "metadata": {},
          "output_type": "execute_result"
        }
      ],
      "source": [
        "\n",
        "df.describe()"
      ]
    },
    {
      "cell_type": "markdown",
      "metadata": {
        "id": "psmn0VD0UWBk"
      },
      "source": [
        "And info."
      ]
    },
    {
      "cell_type": "code",
      "execution_count": null,
      "metadata": {
        "id": "Thlb8oiyUPwe",
        "outputId": "e806eb17-2989-41bb-e36f-63b7bd648b58"
      },
      "outputs": [
        {
          "name": "stdout",
          "output_type": "stream",
          "text": [
            "<class 'pandas.core.frame.DataFrame'>\n",
            "RangeIndex: 22699 entries, 0 to 22698\n",
            "Data columns (total 18 columns):\n",
            " #   Column                 Non-Null Count  Dtype  \n",
            "---  ------                 --------------  -----  \n",
            " 0   Unnamed: 0             22699 non-null  int64  \n",
            " 1   VendorID               22699 non-null  int64  \n",
            " 2   tpep_pickup_datetime   22699 non-null  object \n",
            " 3   tpep_dropoff_datetime  22699 non-null  object \n",
            " 4   passenger_count        22699 non-null  int64  \n",
            " 5   trip_distance          22699 non-null  float64\n",
            " 6   RatecodeID             22699 non-null  int64  \n",
            " 7   store_and_fwd_flag     22699 non-null  object \n",
            " 8   PULocationID           22699 non-null  int64  \n",
            " 9   DOLocationID           22699 non-null  int64  \n",
            " 10  payment_type           22699 non-null  int64  \n",
            " 11  fare_amount            22699 non-null  float64\n",
            " 12  extra                  22699 non-null  float64\n",
            " 13  mta_tax                22699 non-null  float64\n",
            " 14  tip_amount             22699 non-null  float64\n",
            " 15  tolls_amount           22699 non-null  float64\n",
            " 16  improvement_surcharge  22699 non-null  float64\n",
            " 17  total_amount           22699 non-null  float64\n",
            "dtypes: float64(8), int64(7), object(3)\n",
            "memory usage: 3.1+ MB\n"
          ]
        }
      ],
      "source": [
        "\n",
        "df.info()"
      ]
    },
    {
      "cell_type": "markdown",
      "metadata": {
        "id": "E6PyoLkxGvun"
      },
      "source": [
        "What do you do about missing data (if any)?\n",
        "There is no missing data according to the results from the info() function.\n"
      ]
    },
    {
      "cell_type": "markdown",
      "metadata": {
        "id": "vCGi3U9nw4Er"
      },
      "source": [
        "### Task 2b. Assess whether dimensions and measures are correct"
      ]
    },
    {
      "cell_type": "markdown",
      "metadata": {
        "id": "aNBRa33TR_Is"
      },
      "source": [
        "On the data source page in Tableau, double check the data types for the applicable columns you selected on the previous step. Pay close attention to the dimensions and measures to assure they are correct.\n",
        "\n",
        "In Python, consider the data types of the columns. *Consider:* Do they make sense?"
      ]
    },
    {
      "cell_type": "markdown",
      "metadata": {
        "id": "ywUoKjQRyF9I"
      },
      "source": [
        "Review the link provided in the previous activity instructions to create the required Tableau visualization."
      ]
    },
    {
      "cell_type": "markdown",
      "metadata": {
        "id": "sPlm615Ywifi"
      },
      "source": [
        "### Task 2c. Select visualization type(s)"
      ]
    },
    {
      "cell_type": "markdown",
      "metadata": {
        "id": "2YdC51QBSG2v"
      },
      "source": [
        "Select data visualization types that will help you understand and explain the data.\n",
        "\n",
        "Now that you know which data columns you’ll use, it is time to decide which data visualization makes the most sense for EDA of the TLC dataset. What type of data visualization(s) would be most helpful?\n",
        "\n",
        "* Line graph\n",
        "* Bar chart\n",
        "* Box plot\n",
        "* Histogram\n",
        "* Heat map\n",
        "* Scatter plot\n",
        "* A geographic map\n"
      ]
    },
    {
      "cell_type": "markdown",
      "metadata": {
        "id": "oYuUVTY-cD3y"
      },
      "source": [
        "==> ENTER YOUR RESPONSE HERE\n",
        "A bar chart, box plot and scatter plot will be most helpful in our understanding of this data.\n",
        "\n",
        "A box plot will be helpful to determine outliers and where the bulk of the data points reside in terms of trip_distance, duration, and total_amount\n",
        "\n",
        "A scatter plot will be helpful to visualize the trends and patters and outliers of critical variables, such as trip_distance and total_amount\n",
        "\n",
        "A bar chart will help determine average number of trips per month, weekday, weekend, etc."
      ]
    },
    {
      "cell_type": "markdown",
      "metadata": {
        "id": "f0sHpfkhx8GM"
      },
      "source": [
        "\n",
        "\n",
        "## PACE: Construct\n"
      ]
    },
    {
      "cell_type": "markdown",
      "metadata": {
        "id": "BYWkZ4i3wgv4"
      },
      "source": [
        "### Task 3. Data visualization\n",
        "\n",
        "You’ve assessed your data, and decided on which data variables are most applicable. It’s time to plot your visualization(s)!\n"
      ]
    },
    {
      "cell_type": "markdown",
      "metadata": {
        "id": "oMOs4lb1crry"
      },
      "source": [
        "### Boxplots"
      ]
    },
    {
      "cell_type": "markdown",
      "metadata": {
        "id": "fl6lUXVOGvuo"
      },
      "source": [
        "Perform a check for outliers on relevant columns such as trip distance and trip duration. Remember, some of the best ways to identify the presence of outliers in data are box plots and histograms.\n",
        "\n",
        "**Note:** Remember to convert your date columns to datetime in order to derive total trip duration.  "
      ]
    },
    {
      "cell_type": "code",
      "execution_count": null,
      "metadata": {
        "id": "9K6Alb7uc9my"
      },
      "outputs": [],
      "source": [
        "# Convert data columns to datetime\n",
        "#==> ENTER YOUR CODE HERE\n",
        "df['tpep_pickup_datetime']=pd.to_datetime(df['tpep_pickup_datetime'])\n",
        "df['tpep_dropoff_datetime']=pd.to_datetime(df['tpep_dropoff_datetime'])"
      ]
    },
    {
      "cell_type": "markdown",
      "metadata": {
        "id": "6JVHz2QjGvuo"
      },
      "source": [
        "**trip distance**"
      ]
    },
    {
      "cell_type": "code",
      "execution_count": null,
      "metadata": {
        "id": "WnrGO2OmGvuo",
        "outputId": "e63160b1-0081-4bd8-a33a-384f38c6b4d6"
      },
      "outputs": [
        {
          "data": {
            "image/png": "[encoded data removed]",
            "text/plain": [
              "<Figure size 648x144 with 1 Axes>"
            ]
          },
          "metadata": {
            "needs_background": "light"
          },
          "output_type": "display_data"
        }
      ],
      "source": [
        "# Create box plot of trip_distance\n",
        "#==> ENTER YOUR CODE HERE\n",
        "plt.figure(figsize=(9,2))\n",
        "plt.title('trip_distance')\n",
        "sns.boxplot(data=None, x=df['trip_distance'], fliersize=1);\n"
      ]
    },
    {
      "cell_type": "code",
      "execution_count": null,
      "metadata": {
        "id": "eU205_qjGvup",
        "outputId": "209e6a9a-abce-4f78-b31a-0bc5caf7e4cc"
      },
      "outputs": [
        {
          "data": {
            "image/png": "[encoded data removed]",
            "text/plain": [
              "<Figure size 720x360 with 1 Axes>"
            ]
          },
          "metadata": {
            "needs_background": "light"
          },
          "output_type": "display_data"
        }
      ],
      "source": [
        "# Create histogram of trip_distance\n",
        "#==> ENTER YOUR CODE HERE\n",
        "plt.figure(figsize=(10,5))\n",
        "sns.histplot(df['trip_distance'], bins=range(0,26,1))\n",
        "plt.title('Trip distance histogram');"
      ]
    },
    {
      "cell_type": "markdown",
      "metadata": {
        "id": "2nU95LuDGvup"
      },
      "source": [
        "Are there data outliers? What are they and how might you handle them?\n",
        "\n",
        "The majority of trips were journeys of less than two miles. The number of trips falls away steeply as the distance traveled increases beyond two miles."
      ]
    },
    {
      "cell_type": "markdown",
      "metadata": {
        "id": "SsFZnorQGvup"
      },
      "source": [
        "**total amount**"
      ]
    },
    {
      "cell_type": "code",
      "execution_count": null,
      "metadata": {
        "id": "hpVzpdbbGvuq",
        "outputId": "c073e6ba-6cb5-4341-f87b-da242421a0ff"
      },
      "outputs": [
        {
          "data": {
            "image/png": "[encoded data removed]",
            "text/plain": [
              "<Figure size 720x144 with 1 Axes>"
            ]
          },
          "metadata": {
            "needs_background": "light"
          },
          "output_type": "display_data"
        }
      ],
      "source": [
        "# Create box plot of total_amount\n",
        "\n",
        "plt.figure(figsize=(10,2))\n",
        "plt.title('total_amount')\n",
        "sns.boxplot(x=df['total_amount'], fliersize=1);"
      ]
    },
    {
      "cell_type": "code",
      "execution_count": null,
      "metadata": {
        "id": "c-b8okfgGvuq",
        "outputId": "52618018-cfb2-436b-966e-95de582efa8f"
      },
      "outputs": [
        {
          "data": {
            "image/png": "[encoded data removed]",
            "text/plain": [
              "<Figure size 864x360 with 1 Axes>"
            ]
          },
          "metadata": {
            "needs_background": "light"
          },
          "output_type": "display_data"
        }
      ],
      "source": [
        "# Create histogram of total_amount\n",
        "#==> ENTER YOUR CODE HERE\n",
        "plt.figure(figsize=(12,5))\n",
        "ax=sns.histplot(df['total_amount'], bins=range(-10,101,5))\n",
        "ax.set_xticks(range(-10,101,5))\n",
        "ax.set_xticklabels(range(-10,101,5))\n",
        "plt.title('Total amount histogram');"
      ]
    },
    {
      "cell_type": "markdown",
      "metadata": {
        "id": "3dow5h_HGvuq"
      },
      "source": []
    },
    {
      "cell_type": "markdown",
      "metadata": {
        "id": "I-pIIg1fGvuq"
      },
      "source": [
        "What do the distributions of your variables tell you about the question you're asking or the problem you're trying to solve?\n",
        "\n",
        "The total cost of each trip also has a distribution that skews right, with most costs falling in the $5-15 range."
      ]
    },
    {
      "cell_type": "markdown",
      "metadata": {
        "id": "4PLVn8_1Gvuq"
      },
      "source": [
        "**tip amount**"
      ]
    },
    {
      "cell_type": "code",
      "execution_count": null,
      "metadata": {
        "id": "IlfMFcLsGvuv",
        "outputId": "1546b5e0-e338-4bb1-a497-2e3b78b02846"
      },
      "outputs": [
        {
          "data": {
            "image/png": "[encoded data removed]",
            "text/plain": [
              "<Figure size 720x216 with 1 Axes>"
            ]
          },
          "metadata": {
            "needs_background": "light"
          },
          "output_type": "display_data"
        }
      ],
      "source": [
        "# Create box plot of tip_amount\n",
        "#==> ENTER YOUR CODE HERE\n",
        "plt.figure(figsize=(10,3))\n",
        "plt.title('tip_amount')\n",
        "sns.boxplot(x=df['tip_amount'], fliersize=1);"
      ]
    },
    {
      "cell_type": "code",
      "execution_count": null,
      "metadata": {
        "id": "63IkTgYVGvuv",
        "outputId": "c2e84753-d366-4f59-8d9f-e1e1c4378665"
      },
      "outputs": [
        {
          "data": {
            "image/png": "[encoded data removed]",
            "text/plain": [
              "<Figure size 720x360 with 1 Axes>"
            ]
          },
          "metadata": {
            "needs_background": "light"
          },
          "output_type": "display_data"
        }
      ],
      "source": [
        "# Create histogram of tip_amount\n",
        "\n",
        "plt.figure(figsize=(10,5))\n",
        "plt.title('tip_amount')\n",
        "ax=sns.histplot(df['tip_amount'], bins=range(0,21,1))\n",
        "ax.set_xticks(range(0,21,1))\n",
        "ax.set_xticklabels(range(0,21,1))\n",
        "plt.title('Tip amount histogram');"
      ]
    },
    {
      "cell_type": "markdown",
      "metadata": {
        "id": "SP5nny6jGvuv"
      },
      "source": []
    },
    {
      "cell_type": "markdown",
      "metadata": {
        "id": "QZ0AFhb6Gvuv"
      },
      "source": [
        "**tip_amount by vendor**"
      ]
    },
    {
      "cell_type": "code",
      "execution_count": null,
      "metadata": {
        "id": "RkaMAmMbGvuv",
        "outputId": "2f7acbd5-e453-475d-d902-0e28ef343030"
      },
      "outputs": [
        {
          "data": {
            "image/png": "[encoded data removed]",
            "text/plain": [
              "<Figure size 720x360 with 1 Axes>"
            ]
          },
          "metadata": {
            "needs_background": "light"
          },
          "output_type": "display_data"
        }
      ],
      "source": [
        "# Create histogram of tip_amount by vendor\n",
        "\n",
        "plt.figure(figsize=(10,5))\n",
        "ax=sns.histplot(data=df, x='tip_amount', bins=range(0,21,1),\n",
        "                hue='VendorID',\n",
        "                multiple='stack',\n",
        "                palette='pastel')\n",
        "ax.set_xticks(range(0,21,1))\n",
        "ax.set_xticklabels(range(0,21,1))\n",
        "plt.title('Tip amount by vendor histogram');\n"
      ]
    },
    {
      "cell_type": "markdown",
      "metadata": {
        "id": "hMf53IKzGvuw"
      },
      "source": [
        "Next, zoom in on the upper end of the range of tips to check whether vendor one gets noticeably more of the most generous tips."
      ]
    },
    {
      "cell_type": "code",
      "execution_count": null,
      "metadata": {
        "id": "hDVzBRN9Gvuw",
        "outputId": "301a5d6e-6571-495a-a15e-2d24dfa6743d"
      },
      "outputs": [
        {
          "data": {
            "image/png": "[encoded data removed]",
            "text/plain": [
              "<Figure size 864x504 with 1 Axes>"
            ]
          },
          "metadata": {
            "needs_background": "light"
          },
          "output_type": "display_data"
        }
      ],
      "source": [
        "# Create histogram of tip_amount by vendor for tips > $10\n",
        "\n",
        "tips_over_ten = df[df['tip_amount']>10]\n",
        "plt.figure(figsize=(12,7))\n",
        "ax=sns.histplot(data=tips_over_ten, x='tip_amount', bins=range(10,21,1),\n",
        "                hue='VendorID',\n",
        "                multiple='stack',\n",
        "                palette='pastel')\n",
        "ax.set_xticks(range(10,21,1))\n",
        "ax.set_xticklabels(range(10,21,1))\n",
        "plt.title('Tip amount by vendor histogram');\n"
      ]
    },
    {
      "cell_type": "markdown",
      "metadata": {
        "id": "25oOUjSxGvuw"
      },
      "source": [
        "**Mean tips by passenger count**\n",
        "\n",
        "Examine the unique values in the `passenger_count` column."
      ]
    },
    {
      "cell_type": "code",
      "execution_count": null,
      "metadata": {
        "id": "ofarYC8gGvuw",
        "outputId": "b3f4bae8-2840-482e-c187-932f61be1271"
      },
      "outputs": [
        {
          "data": {
            "text/plain": [
              "1    16117\n",
              "2     3305\n",
              "5     1143\n",
              "3      953\n",
              "6      693\n",
              "4      455\n",
              "0       33\n",
              "Name: passenger_count, dtype: int64"
            ]
          },
          "execution_count": 17,
          "metadata": {},
          "output_type": "execute_result"
        }
      ],
      "source": [
        "\n",
        "df['passenger_count'].value_counts()"
      ]
    },
    {
      "cell_type": "code",
      "execution_count": null,
      "metadata": {
        "id": "6MhFOAM_Gvuw",
        "outputId": "6fd3b16d-50d2-479b-f61e-96dc77d4c67b"
      },
      "outputs": [
        {
          "data": {
            "text/html": [
              "<div>\n",
              "<style scoped>\n",
              "    .dataframe tbody tr th:only-of-type {\n",
              "        vertical-align: middle;\n",
              "    }\n",
              "\n",
              "    .dataframe tbody tr th {\n",
              "        vertical-align: top;\n",
              "    }\n",
              "\n",
              "    .dataframe thead th {\n",
              "        text-align: right;\n",
              "    }\n",
              "</style>\n",
              "<table border=\"1\" class=\"dataframe\">\n",
              "  <thead>\n",
              "    <tr style=\"text-align: right;\">\n",
              "      <th></th>\n",
              "      <th>tip_amount</th>\n",
              "    </tr>\n",
              "    <tr>\n",
              "      <th>passenger_count</th>\n",
              "      <th></th>\n",
              "    </tr>\n",
              "  </thead>\n",
              "  <tbody>\n",
              "    <tr>\n",
              "      <th>0</th>\n",
              "      <td>2.135758</td>\n",
              "    </tr>\n",
              "    <tr>\n",
              "      <th>1</th>\n",
              "      <td>1.848920</td>\n",
              "    </tr>\n",
              "    <tr>\n",
              "      <th>2</th>\n",
              "      <td>1.856378</td>\n",
              "    </tr>\n",
              "    <tr>\n",
              "      <th>3</th>\n",
              "      <td>1.716768</td>\n",
              "    </tr>\n",
              "    <tr>\n",
              "      <th>4</th>\n",
              "      <td>1.530264</td>\n",
              "    </tr>\n",
              "    <tr>\n",
              "      <th>5</th>\n",
              "      <td>1.873185</td>\n",
              "    </tr>\n",
              "    <tr>\n",
              "      <th>6</th>\n",
              "      <td>1.720260</td>\n",
              "    </tr>\n",
              "  </tbody>\n",
              "</table>\n",
              "</div>"
            ],
            "text/plain": [
              "                 tip_amount\n",
              "passenger_count            \n",
              "0                  2.135758\n",
              "1                  1.848920\n",
              "2                  1.856378\n",
              "3                  1.716768\n",
              "4                  1.530264\n",
              "5                  1.873185\n",
              "6                  1.720260"
            ]
          },
          "execution_count": 18,
          "metadata": {},
          "output_type": "execute_result"
        }
      ],
      "source": [
        "# Calculate mean tips by passenger_count\n",
        "\n",
        "mean_tips_by_passenger_count=df.groupby([\"passenger_count\"]).mean()[['tip_amount']]\n",
        "mean_tips_by_passenger_count"
      ]
    },
    {
      "cell_type": "code",
      "execution_count": null,
      "metadata": {
        "id": "FCqODBb_Gvuw",
        "outputId": "4cfbaa38-de7f-4c34-d53a-606c4b841b72"
      },
      "outputs": [
        {
          "data": {
            "image/png": "[encoded data removed]",
            "text/plain": [
              "<Figure size 864x504 with 1 Axes>"
            ]
          },
          "metadata": {
            "needs_background": "light"
          },
          "output_type": "display_data"
        }
      ],
      "source": [
        "# Create bar plot for mean tips by passenger count\n",
        "\n",
        "data = mean_tips_by_passenger_count.tail(-1)\n",
        "pal= sns.color_palette(\"Greens_d\", len(data))\n",
        "rank =data['tip_amount'].argsort().argsort()\n",
        "plt.figure(figsize=(12,7))\n",
        "ax =  sns.barplot(x=data.index,\n",
        "                 y=data['tip_amount'],\n",
        "                 palette=np.array(pal[::-1])[rank])\n",
        "ax.axhline(df[\"tip_amount\"].mean(), ls='--', color='red', label='global mean')\n",
        "ax.legend()\n",
        "plt.title('Mean tip amount by passenger count', fontsize=16);\n",
        "\n"
      ]
    },
    {
      "cell_type": "markdown",
      "metadata": {
        "id": "9osFH4N2Gvuw"
      },
      "source": [
        "**Create month and day columns**"
      ]
    },
    {
      "cell_type": "code",
      "execution_count": null,
      "metadata": {
        "id": "2m9Jr2CjGvuw",
        "outputId": "0450eaf2-1b50-43ab-91f4-60c96c57725d"
      },
      "outputs": [
        {
          "data": {
            "text/html": [
              "<div>\n",
              "<style scoped>\n",
              "    .dataframe tbody tr th:only-of-type {\n",
              "        vertical-align: middle;\n",
              "    }\n",
              "\n",
              "    .dataframe tbody tr th {\n",
              "        vertical-align: top;\n",
              "    }\n",
              "\n",
              "    .dataframe thead th {\n",
              "        text-align: right;\n",
              "    }\n",
              "</style>\n",
              "<table border=\"1\" class=\"dataframe\">\n",
              "  <thead>\n",
              "    <tr style=\"text-align: right;\">\n",
              "      <th></th>\n",
              "      <th>Unnamed: 0</th>\n",
              "      <th>VendorID</th>\n",
              "      <th>tpep_pickup_datetime</th>\n",
              "      <th>tpep_dropoff_datetime</th>\n",
              "      <th>passenger_count</th>\n",
              "      <th>trip_distance</th>\n",
              "      <th>RatecodeID</th>\n",
              "      <th>store_and_fwd_flag</th>\n",
              "      <th>PULocationID</th>\n",
              "      <th>DOLocationID</th>\n",
              "      <th>payment_type</th>\n",
              "      <th>fare_amount</th>\n",
              "      <th>extra</th>\n",
              "      <th>mta_tax</th>\n",
              "      <th>tip_amount</th>\n",
              "      <th>tolls_amount</th>\n",
              "      <th>improvement_surcharge</th>\n",
              "      <th>total_amount</th>\n",
              "      <th>month</th>\n",
              "      <th>day</th>\n",
              "    </tr>\n",
              "  </thead>\n",
              "  <tbody>\n",
              "    <tr>\n",
              "      <th>0</th>\n",
              "      <td>24870114</td>\n",
              "      <td>2</td>\n",
              "      <td>2017-03-25 08:55:43</td>\n",
              "      <td>2017-03-25 09:09:47</td>\n",
              "      <td>6</td>\n",
              "      <td>3.34</td>\n",
              "      <td>1</td>\n",
              "      <td>N</td>\n",
              "      <td>100</td>\n",
              "      <td>231</td>\n",
              "      <td>1</td>\n",
              "      <td>13.0</td>\n",
              "      <td>0.0</td>\n",
              "      <td>0.5</td>\n",
              "      <td>2.76</td>\n",
              "      <td>0.0</td>\n",
              "      <td>0.3</td>\n",
              "      <td>16.56</td>\n",
              "      <td>March</td>\n",
              "      <td>Saturday</td>\n",
              "    </tr>\n",
              "    <tr>\n",
              "      <th>1</th>\n",
              "      <td>35634249</td>\n",
              "      <td>1</td>\n",
              "      <td>2017-04-11 14:53:28</td>\n",
              "      <td>2017-04-11 15:19:58</td>\n",
              "      <td>1</td>\n",
              "      <td>1.80</td>\n",
              "      <td>1</td>\n",
              "      <td>N</td>\n",
              "      <td>186</td>\n",
              "      <td>43</td>\n",
              "      <td>1</td>\n",
              "      <td>16.0</td>\n",
              "      <td>0.0</td>\n",
              "      <td>0.5</td>\n",
              "      <td>4.00</td>\n",
              "      <td>0.0</td>\n",
              "      <td>0.3</td>\n",
              "      <td>20.80</td>\n",
              "      <td>April</td>\n",
              "      <td>Tuesday</td>\n",
              "    </tr>\n",
              "    <tr>\n",
              "      <th>2</th>\n",
              "      <td>106203690</td>\n",
              "      <td>1</td>\n",
              "      <td>2017-12-15 07:26:56</td>\n",
              "      <td>2017-12-15 07:34:08</td>\n",
              "      <td>1</td>\n",
              "      <td>1.00</td>\n",
              "      <td>1</td>\n",
              "      <td>N</td>\n",
              "      <td>262</td>\n",
              "      <td>236</td>\n",
              "      <td>1</td>\n",
              "      <td>6.5</td>\n",
              "      <td>0.0</td>\n",
              "      <td>0.5</td>\n",
              "      <td>1.45</td>\n",
              "      <td>0.0</td>\n",
              "      <td>0.3</td>\n",
              "      <td>8.75</td>\n",
              "      <td>December</td>\n",
              "      <td>Friday</td>\n",
              "    </tr>\n",
              "    <tr>\n",
              "      <th>3</th>\n",
              "      <td>38942136</td>\n",
              "      <td>2</td>\n",
              "      <td>2017-05-07 13:17:59</td>\n",
              "      <td>2017-05-07 13:48:14</td>\n",
              "      <td>1</td>\n",
              "      <td>3.70</td>\n",
              "      <td>1</td>\n",
              "      <td>N</td>\n",
              "      <td>188</td>\n",
              "      <td>97</td>\n",
              "      <td>1</td>\n",
              "      <td>20.5</td>\n",
              "      <td>0.0</td>\n",
              "      <td>0.5</td>\n",
              "      <td>6.39</td>\n",
              "      <td>0.0</td>\n",
              "      <td>0.3</td>\n",
              "      <td>27.69</td>\n",
              "      <td>May</td>\n",
              "      <td>Sunday</td>\n",
              "    </tr>\n",
              "    <tr>\n",
              "      <th>4</th>\n",
              "      <td>30841670</td>\n",
              "      <td>2</td>\n",
              "      <td>2017-04-15 23:32:20</td>\n",
              "      <td>2017-04-15 23:49:03</td>\n",
              "      <td>1</td>\n",
              "      <td>4.37</td>\n",
              "      <td>1</td>\n",
              "      <td>N</td>\n",
              "      <td>4</td>\n",
              "      <td>112</td>\n",
              "      <td>2</td>\n",
              "      <td>16.5</td>\n",
              "      <td>0.5</td>\n",
              "      <td>0.5</td>\n",
              "      <td>0.00</td>\n",
              "      <td>0.0</td>\n",
              "      <td>0.3</td>\n",
              "      <td>17.80</td>\n",
              "      <td>April</td>\n",
              "      <td>Saturday</td>\n",
              "    </tr>\n",
              "    <tr>\n",
              "      <th>5</th>\n",
              "      <td>23345809</td>\n",
              "      <td>2</td>\n",
              "      <td>2017-03-25 20:34:11</td>\n",
              "      <td>2017-03-25 20:42:11</td>\n",
              "      <td>6</td>\n",
              "      <td>2.30</td>\n",
              "      <td>1</td>\n",
              "      <td>N</td>\n",
              "      <td>161</td>\n",
              "      <td>236</td>\n",
              "      <td>1</td>\n",
              "      <td>9.0</td>\n",
              "      <td>0.5</td>\n",
              "      <td>0.5</td>\n",
              "      <td>2.06</td>\n",
              "      <td>0.0</td>\n",
              "      <td>0.3</td>\n",
              "      <td>12.36</td>\n",
              "      <td>March</td>\n",
              "      <td>Saturday</td>\n",
              "    </tr>\n",
              "    <tr>\n",
              "      <th>6</th>\n",
              "      <td>37660487</td>\n",
              "      <td>2</td>\n",
              "      <td>2017-05-03 19:04:09</td>\n",
              "      <td>2017-05-03 20:03:47</td>\n",
              "      <td>1</td>\n",
              "      <td>12.83</td>\n",
              "      <td>1</td>\n",
              "      <td>N</td>\n",
              "      <td>79</td>\n",
              "      <td>241</td>\n",
              "      <td>1</td>\n",
              "      <td>47.5</td>\n",
              "      <td>1.0</td>\n",
              "      <td>0.5</td>\n",
              "      <td>9.86</td>\n",
              "      <td>0.0</td>\n",
              "      <td>0.3</td>\n",
              "      <td>59.16</td>\n",
              "      <td>May</td>\n",
              "      <td>Wednesday</td>\n",
              "    </tr>\n",
              "    <tr>\n",
              "      <th>7</th>\n",
              "      <td>69059411</td>\n",
              "      <td>2</td>\n",
              "      <td>2017-08-15 17:41:06</td>\n",
              "      <td>2017-08-15 18:03:05</td>\n",
              "      <td>1</td>\n",
              "      <td>2.98</td>\n",
              "      <td>1</td>\n",
              "      <td>N</td>\n",
              "      <td>237</td>\n",
              "      <td>114</td>\n",
              "      <td>1</td>\n",
              "      <td>16.0</td>\n",
              "      <td>1.0</td>\n",
              "      <td>0.5</td>\n",
              "      <td>1.78</td>\n",
              "      <td>0.0</td>\n",
              "      <td>0.3</td>\n",
              "      <td>19.58</td>\n",
              "      <td>August</td>\n",
              "      <td>Tuesday</td>\n",
              "    </tr>\n",
              "    <tr>\n",
              "      <th>8</th>\n",
              "      <td>8433159</td>\n",
              "      <td>2</td>\n",
              "      <td>2017-02-04 16:17:07</td>\n",
              "      <td>2017-02-04 16:29:14</td>\n",
              "      <td>1</td>\n",
              "      <td>1.20</td>\n",
              "      <td>1</td>\n",
              "      <td>N</td>\n",
              "      <td>234</td>\n",
              "      <td>249</td>\n",
              "      <td>2</td>\n",
              "      <td>9.0</td>\n",
              "      <td>0.0</td>\n",
              "      <td>0.5</td>\n",
              "      <td>0.00</td>\n",
              "      <td>0.0</td>\n",
              "      <td>0.3</td>\n",
              "      <td>9.80</td>\n",
              "      <td>February</td>\n",
              "      <td>Saturday</td>\n",
              "    </tr>\n",
              "    <tr>\n",
              "      <th>9</th>\n",
              "      <td>95294817</td>\n",
              "      <td>1</td>\n",
              "      <td>2017-11-10 15:20:29</td>\n",
              "      <td>2017-11-10 15:40:55</td>\n",
              "      <td>1</td>\n",
              "      <td>1.60</td>\n",
              "      <td>1</td>\n",
              "      <td>N</td>\n",
              "      <td>239</td>\n",
              "      <td>237</td>\n",
              "      <td>1</td>\n",
              "      <td>13.0</td>\n",
              "      <td>0.0</td>\n",
              "      <td>0.5</td>\n",
              "      <td>2.75</td>\n",
              "      <td>0.0</td>\n",
              "      <td>0.3</td>\n",
              "      <td>16.55</td>\n",
              "      <td>November</td>\n",
              "      <td>Friday</td>\n",
              "    </tr>\n",
              "  </tbody>\n",
              "</table>\n",
              "</div>"
            ],
            "text/plain": [
              "   Unnamed: 0  VendorID tpep_pickup_datetime tpep_dropoff_datetime  \\\n",
              "0    24870114         2  2017-03-25 08:55:43   2017-03-25 09:09:47   \n",
              "1    35634249         1  2017-04-11 14:53:28   2017-04-11 15:19:58   \n",
              "2   106203690         1  2017-12-15 07:26:56   2017-12-15 07:34:08   \n",
              "3    38942136         2  2017-05-07 13:17:59   2017-05-07 13:48:14   \n",
              "4    30841670         2  2017-04-15 23:32:20   2017-04-15 23:49:03   \n",
              "5    23345809         2  2017-03-25 20:34:11   2017-03-25 20:42:11   \n",
              "6    37660487         2  2017-05-03 19:04:09   2017-05-03 20:03:47   \n",
              "7    69059411         2  2017-08-15 17:41:06   2017-08-15 18:03:05   \n",
              "8     8433159         2  2017-02-04 16:17:07   2017-02-04 16:29:14   \n",
              "9    95294817         1  2017-11-10 15:20:29   2017-11-10 15:40:55   \n",
              "\n",
              "   passenger_count  trip_distance  RatecodeID store_and_fwd_flag  \\\n",
              "0                6           3.34           1                  N   \n",
              "1                1           1.80           1                  N   \n",
              "2                1           1.00           1                  N   \n",
              "3                1           3.70           1                  N   \n",
              "4                1           4.37           1                  N   \n",
              "5                6           2.30           1                  N   \n",
              "6                1          12.83           1                  N   \n",
              "7                1           2.98           1                  N   \n",
              "8                1           1.20           1                  N   \n",
              "9                1           1.60           1                  N   \n",
              "\n",
              "   PULocationID  DOLocationID  payment_type  fare_amount  extra  mta_tax  \\\n",
              "0           100           231             1         13.0    0.0      0.5   \n",
              "1           186            43             1         16.0    0.0      0.5   \n",
              "2           262           236             1          6.5    0.0      0.5   \n",
              "3           188            97             1         20.5    0.0      0.5   \n",
              "4             4           112             2         16.5    0.5      0.5   \n",
              "5           161           236             1          9.0    0.5      0.5   \n",
              "6            79           241             1         47.5    1.0      0.5   \n",
              "7           237           114             1         16.0    1.0      0.5   \n",
              "8           234           249             2          9.0    0.0      0.5   \n",
              "9           239           237             1         13.0    0.0      0.5   \n",
              "\n",
              "   tip_amount  tolls_amount  improvement_surcharge  total_amount     month  \\\n",
              "0        2.76           0.0                    0.3         16.56     March   \n",
              "1        4.00           0.0                    0.3         20.80     April   \n",
              "2        1.45           0.0                    0.3          8.75  December   \n",
              "3        6.39           0.0                    0.3         27.69       May   \n",
              "4        0.00           0.0                    0.3         17.80     April   \n",
              "5        2.06           0.0                    0.3         12.36     March   \n",
              "6        9.86           0.0                    0.3         59.16       May   \n",
              "7        1.78           0.0                    0.3         19.58    August   \n",
              "8        0.00           0.0                    0.3          9.80  February   \n",
              "9        2.75           0.0                    0.3         16.55  November   \n",
              "\n",
              "         day  \n",
              "0   Saturday  \n",
              "1    Tuesday  \n",
              "2     Friday  \n",
              "3     Sunday  \n",
              "4   Saturday  \n",
              "5   Saturday  \n",
              "6  Wednesday  \n",
              "7    Tuesday  \n",
              "8   Saturday  \n",
              "9     Friday  "
            ]
          },
          "execution_count": 20,
          "metadata": {},
          "output_type": "execute_result"
        }
      ],
      "source": [
        "# Create a month column\n",
        "\n",
        "df['month']=df['tpep_pickup_datetime'].dt.month_name()\n",
        "\n",
        "# Create a day column\n",
        "\n",
        "df['day']=df['tpep_pickup_datetime'].dt.day_name()\n",
        "\n",
        "df.head(10)"
      ]
    },
    {
      "cell_type": "markdown",
      "metadata": {
        "id": "PVjYRVzcGvux"
      },
      "source": [
        "**Plot total ride count by month**\n",
        "\n",
        "Begin by calculating total ride count by month."
      ]
    },
    {
      "cell_type": "code",
      "execution_count": null,
      "metadata": {
        "id": "E1APbACRGvux",
        "outputId": "0d66005e-4abd-4e10-d29e-ca6d1e31c62c"
      },
      "outputs": [
        {
          "data": {
            "text/plain": [
              "March        2049\n",
              "October      2027\n",
              "April        2019\n",
              "May          2013\n",
              "January      1997\n",
              "June         1964\n",
              "December     1863\n",
              "November     1843\n",
              "February     1769\n",
              "September    1734\n",
              "August       1724\n",
              "July         1697\n",
              "Name: month, dtype: int64"
            ]
          },
          "execution_count": 21,
          "metadata": {},
          "output_type": "execute_result"
        }
      ],
      "source": [
        "# Get total number of rides for each month\n",
        "\n",
        "monthly_rides = df['month'].value_counts()\n",
        "monthly_rides"
      ]
    },
    {
      "cell_type": "markdown",
      "metadata": {
        "id": "FkxAQ-8FGvux"
      },
      "source": [
        "Reorder the results to put the months in calendar order."
      ]
    },
    {
      "cell_type": "code",
      "execution_count": null,
      "metadata": {
        "id": "a4fwFz--Gvuy",
        "outputId": "d5331e7b-7013-4004-d0bc-21386e03a4ba"
      },
      "outputs": [
        {
          "data": {
            "text/plain": [
              "January      1997\n",
              "February     1769\n",
              "March        2049\n",
              "April        2019\n",
              "May          2013\n",
              "June         1964\n",
              "July         1697\n",
              "August       1724\n",
              "September    1734\n",
              "October      2027\n",
              "November     1843\n",
              "December     1863\n",
              "Name: month, dtype: int64"
            ]
          },
          "execution_count": 22,
          "metadata": {},
          "output_type": "execute_result"
        }
      ],
      "source": [
        "# Reorder the monthly ride list so months go in order\n",
        "\n",
        "month_order=['January', 'February', 'March', 'April', 'May', 'June', 'July',\n",
        "         'August', 'September', 'October', 'November', 'December']\n",
        "monthly_rides= monthly_rides.reindex(index=month_order)\n",
        "monthly_rides"
      ]
    },
    {
      "cell_type": "code",
      "execution_count": null,
      "metadata": {
        "id": "Ti0TPDbDGvuy",
        "outputId": "087b4195-1cd5-481b-be07-748a2787e739"
      },
      "outputs": [
        {
          "data": {
            "text/plain": [
              "Index(['January', 'February', 'March', 'April', 'May', 'June', 'July',\n",
              "       'August', 'September', 'October', 'November', 'December'],\n",
              "      dtype='object')"
            ]
          },
          "execution_count": 23,
          "metadata": {},
          "output_type": "execute_result"
        }
      ],
      "source": [
        "# Show the index\n",
        "\n",
        "monthly_rides.index"
      ]
    },
    {
      "cell_type": "code",
      "execution_count": null,
      "metadata": {
        "id": "UmyQPVUGGvuy",
        "outputId": "bb70366e-5353-4909-f19a-45927b9068e9"
      },
      "outputs": [
        {
          "data": {
            "image/png": "[encoded data removed]",
            "text/plain": [
              "<Figure size 720x360 with 1 Axes>"
            ]
          },
          "metadata": {
            "needs_background": "light"
          },
          "output_type": "display_data"
        }
      ],
      "source": [
        "# Create a bar plot of total rides per month\n",
        "#==> ENTER YOUR CODE HERE\n",
        "plt.figure(figsize=(10,5))\n",
        "ax= sns.barplot(x=monthly_rides.index, y= monthly_rides)\n",
        "ax.set_xticklabels(month_order)\n",
        "ax.set_ylabel('count')\n",
        "plt.title(\"Ride count by month\", fontsize=13);"
      ]
    },
    {
      "cell_type": "markdown",
      "metadata": {
        "id": "mVyXNsk6Gvuy"
      },
      "source": [
        "**Plot total ride count by day**\n",
        "\n",
        "Repeat the above process, but now calculate the total rides by day of the week."
      ]
    },
    {
      "cell_type": "code",
      "execution_count": null,
      "metadata": {
        "id": "-vQLrbyTGvuy",
        "outputId": "a2068b87-f7b0-4c96-ef45-dcbfe90c4753"
      },
      "outputs": [
        {
          "data": {
            "text/plain": [
              "Monday       2931\n",
              "Tuesday      3198\n",
              "Wednesday    3390\n",
              "Thursday     3402\n",
              "Friday       3413\n",
              "Saturday     3367\n",
              "Sunday       2998\n",
              "Name: day, dtype: int64"
            ]
          },
          "execution_count": 25,
          "metadata": {},
          "output_type": "execute_result"
        }
      ],
      "source": [
        "# Repeat the above process, this time for rides by day\n",
        "\n",
        "daily_rides= df['day'].value_counts()\n",
        "day_order=['Monday', 'Tuesday', 'Wednesday', 'Thursday', 'Friday', 'Saturday', 'Sunday']\n",
        "daily_rides = daily_rides.reindex(index=day_order)\n",
        "daily_rides"
      ]
    },
    {
      "cell_type": "code",
      "execution_count": null,
      "metadata": {
        "id": "ZRg_1gM8Gvuz",
        "outputId": "6dd10233-d9b4-44e2-8b47-869b84bd00b6"
      },
      "outputs": [
        {
          "data": {
            "image/png": "[encoded data removed]",
            "text/plain": [
              "<Figure size 864x504 with 1 Axes>"
            ]
          },
          "metadata": {
            "needs_background": "light"
          },
          "output_type": "display_data"
        }
      ],
      "source": [
        "# Create bar plot for ride count by day\n",
        "\n",
        "plt.figure(figsize=(12,7))\n",
        "ax= sns.barplot(x=daily_rides.index, y = daily_rides)\n",
        "ax.set_xticklabels(day_order)\n",
        "ax.set_ylabel('count')\n",
        "plt.title('Ride count by day', fontsize=15);\n",
        "\n"
      ]
    },
    {
      "cell_type": "markdown",
      "metadata": {
        "id": "v7G0HK0dGvuz"
      },
      "source": [
        "**Plot total revenue by day of the week**\n",
        "\n",
        "Repeat the above process, but now calculate the total revenue by day of the week."
      ]
    },
    {
      "cell_type": "code",
      "execution_count": null,
      "metadata": {
        "id": "sFcKcf9KGvuz",
        "outputId": "03733da3-9c28-47a3-a958-a614710c7caf"
      },
      "outputs": [
        {
          "data": {
            "text/html": [
              "<div>\n",
              "<style scoped>\n",
              "    .dataframe tbody tr th:only-of-type {\n",
              "        vertical-align: middle;\n",
              "    }\n",
              "\n",
              "    .dataframe tbody tr th {\n",
              "        vertical-align: top;\n",
              "    }\n",
              "\n",
              "    .dataframe thead th {\n",
              "        text-align: right;\n",
              "    }\n",
              "</style>\n",
              "<table border=\"1\" class=\"dataframe\">\n",
              "  <thead>\n",
              "    <tr style=\"text-align: right;\">\n",
              "      <th></th>\n",
              "      <th>total_amount</th>\n",
              "    </tr>\n",
              "    <tr>\n",
              "      <th>day</th>\n",
              "      <th></th>\n",
              "    </tr>\n",
              "  </thead>\n",
              "  <tbody>\n",
              "    <tr>\n",
              "      <th>Monday</th>\n",
              "      <td>49574.37</td>\n",
              "    </tr>\n",
              "    <tr>\n",
              "      <th>Tuesday</th>\n",
              "      <td>52527.14</td>\n",
              "    </tr>\n",
              "    <tr>\n",
              "      <th>Wednesday</th>\n",
              "      <td>55310.47</td>\n",
              "    </tr>\n",
              "    <tr>\n",
              "      <th>Thursday</th>\n",
              "      <td>57181.91</td>\n",
              "    </tr>\n",
              "    <tr>\n",
              "      <th>Friday</th>\n",
              "      <td>55818.74</td>\n",
              "    </tr>\n",
              "    <tr>\n",
              "      <th>Saturday</th>\n",
              "      <td>51195.40</td>\n",
              "    </tr>\n",
              "    <tr>\n",
              "      <th>Sunday</th>\n",
              "      <td>48624.06</td>\n",
              "    </tr>\n",
              "  </tbody>\n",
              "</table>\n",
              "</div>"
            ],
            "text/plain": [
              "           total_amount\n",
              "day                    \n",
              "Monday         49574.37\n",
              "Tuesday        52527.14\n",
              "Wednesday      55310.47\n",
              "Thursday       57181.91\n",
              "Friday         55818.74\n",
              "Saturday       51195.40\n",
              "Sunday         48624.06"
            ]
          },
          "execution_count": 27,
          "metadata": {},
          "output_type": "execute_result"
        }
      ],
      "source": [
        "# Repeat the process, this time for total revenue by day\n",
        "\n",
        "day_order = ['Monday', 'Tuesday', 'Wednesday', 'Thursday', 'Friday', 'Saturday', 'Sunday']\n",
        "total_amount_day = df.groupby('day').sum()[['total_amount']]\n",
        "total_amount_day = total_amount_day.reindex(index=day_order)\n",
        "total_amount_day"
      ]
    },
    {
      "cell_type": "code",
      "execution_count": null,
      "metadata": {
        "id": "WgzrTBMbGvuz",
        "outputId": "77f812e2-0e63-4b0f-f97b-a28a5b731cdc"
      },
      "outputs": [
        {
          "data": {
            "image/png": "[encoded data removed]",
            "text/plain": [
              "<Figure size 720x360 with 1 Axes>"
            ]
          },
          "metadata": {
            "needs_background": "light"
          },
          "output_type": "display_data"
        }
      ],
      "source": [
        "# Create bar plot of total revenue by day\n",
        "\n",
        "plt.figure(figsize=(10,5))\n",
        "ax =sns.barplot(x=total_amount_day.index, y=total_amount_day['total_amount'])\n",
        "ax.set_xticklabels(day_order)\n",
        "ax.set_ylabel('Revenue (USD)')\n",
        "plt.title('Total revenue by day', fontsize=15);"
      ]
    },
    {
      "cell_type": "markdown",
      "metadata": {
        "id": "uUxp1HOnGvuz"
      },
      "source": [
        "**Plot total revenue by month**"
      ]
    },
    {
      "cell_type": "code",
      "execution_count": null,
      "metadata": {
        "id": "RQn90LofGvuz",
        "outputId": "1f89ee1a-d215-4858-afa3-bfd2788f1d9b"
      },
      "outputs": [
        {
          "data": {
            "text/html": [
              "<div>\n",
              "<style scoped>\n",
              "    .dataframe tbody tr th:only-of-type {\n",
              "        vertical-align: middle;\n",
              "    }\n",
              "\n",
              "    .dataframe tbody tr th {\n",
              "        vertical-align: top;\n",
              "    }\n",
              "\n",
              "    .dataframe thead th {\n",
              "        text-align: right;\n",
              "    }\n",
              "</style>\n",
              "<table border=\"1\" class=\"dataframe\">\n",
              "  <thead>\n",
              "    <tr style=\"text-align: right;\">\n",
              "      <th></th>\n",
              "      <th>total_amount</th>\n",
              "    </tr>\n",
              "    <tr>\n",
              "      <th>month</th>\n",
              "      <th></th>\n",
              "    </tr>\n",
              "  </thead>\n",
              "  <tbody>\n",
              "    <tr>\n",
              "      <th>January</th>\n",
              "      <td>31735.25</td>\n",
              "    </tr>\n",
              "    <tr>\n",
              "      <th>February</th>\n",
              "      <td>28937.89</td>\n",
              "    </tr>\n",
              "    <tr>\n",
              "      <th>March</th>\n",
              "      <td>33085.89</td>\n",
              "    </tr>\n",
              "    <tr>\n",
              "      <th>April</th>\n",
              "      <td>32012.54</td>\n",
              "    </tr>\n",
              "    <tr>\n",
              "      <th>May</th>\n",
              "      <td>33828.58</td>\n",
              "    </tr>\n",
              "    <tr>\n",
              "      <th>June</th>\n",
              "      <td>32920.52</td>\n",
              "    </tr>\n",
              "    <tr>\n",
              "      <th>July</th>\n",
              "      <td>26617.64</td>\n",
              "    </tr>\n",
              "    <tr>\n",
              "      <th>August</th>\n",
              "      <td>27759.56</td>\n",
              "    </tr>\n",
              "    <tr>\n",
              "      <th>September</th>\n",
              "      <td>28206.38</td>\n",
              "    </tr>\n",
              "    <tr>\n",
              "      <th>October</th>\n",
              "      <td>33065.83</td>\n",
              "    </tr>\n",
              "    <tr>\n",
              "      <th>November</th>\n",
              "      <td>30800.44</td>\n",
              "    </tr>\n",
              "    <tr>\n",
              "      <th>December</th>\n",
              "      <td>31261.57</td>\n",
              "    </tr>\n",
              "  </tbody>\n",
              "</table>\n",
              "</div>"
            ],
            "text/plain": [
              "           total_amount\n",
              "month                  \n",
              "January        31735.25\n",
              "February       28937.89\n",
              "March          33085.89\n",
              "April          32012.54\n",
              "May            33828.58\n",
              "June           32920.52\n",
              "July           26617.64\n",
              "August         27759.56\n",
              "September      28206.38\n",
              "October        33065.83\n",
              "November       30800.44\n",
              "December       31261.57"
            ]
          },
          "execution_count": 29,
          "metadata": {},
          "output_type": "execute_result"
        }
      ],
      "source": [
        "# Repeat the process, this time for total revenue by month\n",
        "\n",
        "total_amount_month = df.groupby('month').sum()[[\"total_amount\"]]\n",
        "total_amount_month = total_amount_month.reindex(index= month_order)\n",
        "total_amount_month"
      ]
    },
    {
      "cell_type": "code",
      "execution_count": null,
      "metadata": {
        "id": "4OC7Cr9qGvu0",
        "outputId": "8dd1235a-5d55-4f9b-e4f9-8cded8e447e6"
      },
      "outputs": [
        {
          "data": {
            "image/png": "[encoded data removed]",
            "text/plain": [
              "<Figure size 864x360 with 1 Axes>"
            ]
          },
          "metadata": {
            "needs_background": "light"
          },
          "output_type": "display_data"
        }
      ],
      "source": [
        "# Create a bar plot of total revenue by month\n",
        "\n",
        "plt.figure(figsize=(12,5))\n",
        "ax=sns.barplot(x=total_amount_month.index, y = total_amount_month['total_amount'])\n",
        "ax.set_ylabel('Total amount')\n",
        "plt.title(\"Total revenue by month\", fontsize=15);\n"
      ]
    },
    {
      "cell_type": "markdown",
      "metadata": {
        "id": "5Lx-vikocvoy"
      },
      "source": [
        "#### Scatter plot"
      ]
    },
    {
      "cell_type": "markdown",
      "metadata": {
        "id": "k_l2KMzOGvu0"
      },
      "source": [
        "You can create a scatterplot in Tableau Public, which can be easier to manipulate and present. If you'd like step by step instructions, you can review the following link. Those instructions create a scatterplot showing the relationship between total_amount and trip_distance. Consider adding the Tableau visualization to your executive summary, and adding key insights from your findings on those two variables."
      ]
    },
    {
      "cell_type": "markdown",
      "metadata": {
        "id": "8TQjML4-0_35"
      },
      "source": [
        "[Tableau visualization guidelines](https://docs.google.com/document/d/1pcfUlttD2Y_a9A4VrKPzikZWCAfFLsBAhuKuomjcUjA/template/preview)"
      ]
    },
    {
      "cell_type": "markdown",
      "metadata": {
        "id": "eZIZbrZxGvu0"
      },
      "source": [
        "**Plot mean trip distance by drop-off location**"
      ]
    },
    {
      "cell_type": "code",
      "execution_count": null,
      "metadata": {
        "id": "F137AqdoGvu0",
        "outputId": "a2b3583d-94ab-4f61-e324-5a88109b5ff2"
      },
      "outputs": [
        {
          "data": {
            "text/plain": [
              "216"
            ]
          },
          "execution_count": 39,
          "metadata": {},
          "output_type": "execute_result"
        }
      ],
      "source": [
        "# Get number of unique drop-off location IDs\n",
        "\n",
        "df['DOLocationID'].nunique()"
      ]
    },
    {
      "cell_type": "code",
      "execution_count": null,
      "metadata": {
        "id": "QWcMHaK_Gvu0",
        "outputId": "ef58f13f-4bac-43eb-b4c5-524a38055f13"
      },
      "outputs": [
        {
          "data": {
            "text/html": [
              "<div>\n",
              "<style scoped>\n",
              "    .dataframe tbody tr th:only-of-type {\n",
              "        vertical-align: middle;\n",
              "    }\n",
              "\n",
              "    .dataframe tbody tr th {\n",
              "        vertical-align: top;\n",
              "    }\n",
              "\n",
              "    .dataframe thead th {\n",
              "        text-align: right;\n",
              "    }\n",
              "</style>\n",
              "<table border=\"1\" class=\"dataframe\">\n",
              "  <thead>\n",
              "    <tr style=\"text-align: right;\">\n",
              "      <th></th>\n",
              "      <th>trip_distance</th>\n",
              "    </tr>\n",
              "    <tr>\n",
              "      <th>DOLocationID</th>\n",
              "      <th></th>\n",
              "    </tr>\n",
              "  </thead>\n",
              "  <tbody>\n",
              "    <tr>\n",
              "      <th>207</th>\n",
              "      <td>1.200000</td>\n",
              "    </tr>\n",
              "    <tr>\n",
              "      <th>193</th>\n",
              "      <td>1.390556</td>\n",
              "    </tr>\n",
              "    <tr>\n",
              "      <th>237</th>\n",
              "      <td>1.555494</td>\n",
              "    </tr>\n",
              "    <tr>\n",
              "      <th>234</th>\n",
              "      <td>1.727806</td>\n",
              "    </tr>\n",
              "    <tr>\n",
              "      <th>137</th>\n",
              "      <td>1.818852</td>\n",
              "    </tr>\n",
              "    <tr>\n",
              "      <th>...</th>\n",
              "      <td>...</td>\n",
              "    </tr>\n",
              "    <tr>\n",
              "      <th>51</th>\n",
              "      <td>17.310000</td>\n",
              "    </tr>\n",
              "    <tr>\n",
              "      <th>11</th>\n",
              "      <td>17.945000</td>\n",
              "    </tr>\n",
              "    <tr>\n",
              "      <th>210</th>\n",
              "      <td>20.500000</td>\n",
              "    </tr>\n",
              "    <tr>\n",
              "      <th>29</th>\n",
              "      <td>21.650000</td>\n",
              "    </tr>\n",
              "    <tr>\n",
              "      <th>23</th>\n",
              "      <td>24.275000</td>\n",
              "    </tr>\n",
              "  </tbody>\n",
              "</table>\n",
              "<p>216 rows × 1 columns</p>\n",
              "</div>"
            ],
            "text/plain": [
              "              trip_distance\n",
              "DOLocationID               \n",
              "207                1.200000\n",
              "193                1.390556\n",
              "237                1.555494\n",
              "234                1.727806\n",
              "137                1.818852\n",
              "...                     ...\n",
              "51                17.310000\n",
              "11                17.945000\n",
              "210               20.500000\n",
              "29                21.650000\n",
              "23                24.275000\n",
              "\n",
              "[216 rows x 1 columns]"
            ]
          },
          "execution_count": 40,
          "metadata": {},
          "output_type": "execute_result"
        }
      ],
      "source": [
        "# Calculate the mean trip distance for each drop-off location\n",
        "\n",
        "\n",
        "distance_by_dropoff = df.groupby('DOLocationID').mean()[['trip_distance']]\n",
        "\n",
        "# Sort the results in descending order by mean trip distance\n",
        "\n",
        "distance_by_dropoff = distance_by_dropoff.sort_values(by='trip_distance')\n",
        "distance_by_dropoff"
      ]
    },
    {
      "cell_type": "code",
      "execution_count": null,
      "metadata": {
        "id": "SLAQ6LndGvu1",
        "outputId": "ed76230f-e1c6-4e93-e96e-c02f43061bac"
      },
      "outputs": [
        {
          "data": {
            "image/png": "[encoded data removed]",
            "text/plain": [
              "<Figure size 936x432 with 1 Axes>"
            ]
          },
          "metadata": {
            "needs_background": "light"
          },
          "output_type": "display_data"
        }
      ],
      "source": [
        "# Create a bar plot of mean trip distances by drop-off location in ascending order by distance\n",
        "\n",
        "plt.figure(figsize=(13,6))\n",
        "ax = sns.barplot(x=distance_by_dropoff.index,\n",
        "                 y=distance_by_dropoff['trip_distance'],\n",
        "                 order=distance_by_dropoff.index)\n",
        "ax.set_xticklabels([])\n",
        "ax.set_xticks([])\n",
        "plt.title('Mean trip distance by drop-off location', fontsize=18);"
      ]
    },
    {
      "cell_type": "markdown",
      "metadata": {
        "id": "EEolOdnVGvu1"
      },
      "source": [
        "## BONUS CONTENT\n",
        "\n",
        "To confirm your conclusion, consider the following experiment:\n",
        "1. Create a sample of coordinates from a normal distribution&mdash;in this case 1,500 pairs of points from a normal distribution with a mean of 10 and a standard deviation of 5\n",
        "2. Calculate the distance between each pair of coordinates\n",
        "3. Group the coordinates by endpoint and calculate the mean distance between that endpoint and all other points it was paired with\n",
        "4. Plot the mean distance for each unique endpoint"
      ]
    },
    {
      "cell_type": "code",
      "execution_count": null,
      "metadata": {
        "id": "7hDBfl-bGvu1",
        "outputId": "c9fb9aff-7472-4b6b-99a8-fc5c75b11b36"
      },
      "outputs": [
        {
          "data": {
            "image/png": "[encoded data removed]",
            "text/plain": [
              "<Figure size 1008x432 with 1 Axes>"
            ]
          },
          "metadata": {
            "needs_background": "light"
          },
          "output_type": "display_data"
        }
      ],
      "source": [
        "#BONUS CONTENT\n",
        "\n",
        "#1. Generate random points on a 2D plane from a normal distribution\n",
        "\n",
        "test = np.round(np.random.normal(10, 5, (3000, 2)), 1)\n",
        "midway = int(len(test)/2)\n",
        "start = test[:midway]\n",
        "end = test[midway:]\n",
        "\n",
        "# 2. Calculate Euclidean distances between points in first half and second half of array\n",
        "\n",
        "distances = (start - end)**2\n",
        "distances = distances.sum(axis=-1)\n",
        "distances = np.sqrt(distances)\n",
        "\n",
        "# 3. Group the coordinates by \"drop-off location\", compute mean distance\n",
        "#==> ENTER YOUR CODE HERE\n",
        "test_df = pd.DataFrame({'start': [tuple(x) for x in start.tolist()],\n",
        "                   'end': [tuple(x) for x in end.tolist()],\n",
        "                   'distance': distances})\n",
        "data = test_df[['end', 'distance']].groupby('end').mean()\n",
        "data = data.sort_values(by='distance')\n",
        "\n",
        "# 4. Plot the mean distance between each endpoint (\"drop-off location\") and all points it connected to\n",
        "\n",
        "plt.figure(figsize=(14,6))\n",
        "ax = sns.barplot(x=data.index,\n",
        "                 y=data['distance'],\n",
        "                 order=data.index)\n",
        "ax.set_xticklabels([])\n",
        "ax.set_xticks([])\n",
        "ax.set_xlabel('Endpoint')\n",
        "ax.set_ylabel('Mean distance to all other points')\n",
        "ax.set_title('Mean distance between points taken randomly from normal distribution');"
      ]
    },
    {
      "cell_type": "markdown",
      "metadata": {
        "id": "IAaR5eiKGvu1"
      },
      "source": [
        "**Histogram of rides by drop-off location**"
      ]
    },
    {
      "cell_type": "markdown",
      "metadata": {
        "id": "OtnGeyTnGvu1"
      },
      "source": [
        "First, check to whether the drop-off locations IDs are consecutively numbered. For instance, does it go 1, 2, 3, 4..., or are some numbers missing (e.g., 1, 3, 4...). If numbers aren't all consecutive, the histogram will look like some locations have very few or no rides when in reality there's no bar because there's no location."
      ]
    },
    {
      "cell_type": "code",
      "execution_count": null,
      "metadata": {
        "id": "A4VepjrCGvu2",
        "outputId": "1df24223-e0ad-47f0-f2b3-ce8051e7c37a"
      },
      "outputs": [
        {
          "data": {
            "text/plain": [
              "49"
            ]
          },
          "execution_count": 49,
          "metadata": {},
          "output_type": "execute_result"
        }
      ],
      "source": [
        "# Check if all drop-off locations are consecutively numbered\n",
        "\n",
        "df['DOLocationID'].max() - len(set(df['DOLocationID']))"
      ]
    },
    {
      "cell_type": "markdown",
      "metadata": {
        "id": "vumiupuJGvu2"
      },
      "source": [
        "To eliminate the spaces in the historgram that these missing numbers would create, sort the unique drop-off location values, then convert them to strings. This will make the histplot function display all bars directly next to each other."
      ]
    },
    {
      "cell_type": "code",
      "execution_count": null,
      "metadata": {
        "id": "8FonEsYoGvu2",
        "outputId": "73a784c8-a2cd-44e2-f07e-cc0f2123be5a"
      },
      "outputs": [
        {
          "data": {
            "image/png": "[encoded data removed]",
            "text/plain": [
              "<Figure size 1152x288 with 1 Axes>"
            ]
          },
          "metadata": {
            "needs_background": "light"
          },
          "output_type": "display_data"
        }
      ],
      "source": [
        "\n",
        "plt.figure(figsize=(16,4))\n",
        "# DOLocationID column is numeric, so sort in ascending order\n",
        "\n",
        "sorted_dropoffs = df['DOLocationID'].sort_values()\n",
        "\n",
        "# Convert to string\n",
        "\n",
        "sorted_dropoffs = sorted_dropoffs.astype('str')\n",
        "\n",
        "# Plot\n",
        "\n",
        "sns.histplot(sorted_dropoffs, bins=range(0, df['DOLocationID'].max()+1, 1))\n",
        "plt.xticks([])\n",
        "plt.xlabel('Drop-off locations')\n",
        "plt.title('Histogram of rides by drop-off location', fontsize=16);"
      ]
    },
    {
      "cell_type": "markdown",
      "metadata": {
        "id": "NsvBtco1x8GN"
      },
      "source": [
        "\n",
        "## PACE: Execute\n"
      ]
    },
    {
      "cell_type": "markdown",
      "metadata": {
        "id": "csHAfM-RSO7l"
      },
      "source": [
        "### Task 4a. Results and evaluation\n"
      ]
    },
    {
      "cell_type": "code",
      "execution_count": null,
      "metadata": {
        "id": "puYiPmvGdTJH"
      },
      "outputs": [],
      "source": [
        "\n",
        "df['trip_duration'] = (df['tpep_dropoff_datetime']-df['tpep_pickup_datetime'])"
      ]
    },
    {
      "cell_type": "code",
      "execution_count": null,
      "metadata": {
        "id": "iEv7pHw-dTRP",
        "outputId": "c02fcbf6-4d87-4021-9422-24173562e27c"
      },
      "outputs": [
        {
          "data": {
            "text/html": [
              "<div>\n",
              "<style scoped>\n",
              "    .dataframe tbody tr th:only-of-type {\n",
              "        vertical-align: middle;\n",
              "    }\n",
              "\n",
              "    .dataframe tbody tr th {\n",
              "        vertical-align: top;\n",
              "    }\n",
              "\n",
              "    .dataframe thead th {\n",
              "        text-align: right;\n",
              "    }\n",
              "</style>\n",
              "<table border=\"1\" class=\"dataframe\">\n",
              "  <thead>\n",
              "    <tr style=\"text-align: right;\">\n",
              "      <th></th>\n",
              "      <th>Unnamed: 0</th>\n",
              "      <th>VendorID</th>\n",
              "      <th>tpep_pickup_datetime</th>\n",
              "      <th>tpep_dropoff_datetime</th>\n",
              "      <th>passenger_count</th>\n",
              "      <th>trip_distance</th>\n",
              "      <th>RatecodeID</th>\n",
              "      <th>store_and_fwd_flag</th>\n",
              "      <th>PULocationID</th>\n",
              "      <th>DOLocationID</th>\n",
              "      <th>...</th>\n",
              "      <th>fare_amount</th>\n",
              "      <th>extra</th>\n",
              "      <th>mta_tax</th>\n",
              "      <th>tip_amount</th>\n",
              "      <th>tolls_amount</th>\n",
              "      <th>improvement_surcharge</th>\n",
              "      <th>total_amount</th>\n",
              "      <th>month</th>\n",
              "      <th>day</th>\n",
              "      <th>trip_duration</th>\n",
              "    </tr>\n",
              "  </thead>\n",
              "  <tbody>\n",
              "    <tr>\n",
              "      <th>0</th>\n",
              "      <td>24870114</td>\n",
              "      <td>2</td>\n",
              "      <td>2017-03-25 08:55:43</td>\n",
              "      <td>2017-03-25 09:09:47</td>\n",
              "      <td>6</td>\n",
              "      <td>3.34</td>\n",
              "      <td>1</td>\n",
              "      <td>N</td>\n",
              "      <td>100</td>\n",
              "      <td>231</td>\n",
              "      <td>...</td>\n",
              "      <td>13.0</td>\n",
              "      <td>0.0</td>\n",
              "      <td>0.5</td>\n",
              "      <td>2.76</td>\n",
              "      <td>0.0</td>\n",
              "      <td>0.3</td>\n",
              "      <td>16.56</td>\n",
              "      <td>March</td>\n",
              "      <td>Saturday</td>\n",
              "      <td>0 days 00:14:04</td>\n",
              "    </tr>\n",
              "    <tr>\n",
              "      <th>1</th>\n",
              "      <td>35634249</td>\n",
              "      <td>1</td>\n",
              "      <td>2017-04-11 14:53:28</td>\n",
              "      <td>2017-04-11 15:19:58</td>\n",
              "      <td>1</td>\n",
              "      <td>1.80</td>\n",
              "      <td>1</td>\n",
              "      <td>N</td>\n",
              "      <td>186</td>\n",
              "      <td>43</td>\n",
              "      <td>...</td>\n",
              "      <td>16.0</td>\n",
              "      <td>0.0</td>\n",
              "      <td>0.5</td>\n",
              "      <td>4.00</td>\n",
              "      <td>0.0</td>\n",
              "      <td>0.3</td>\n",
              "      <td>20.80</td>\n",
              "      <td>April</td>\n",
              "      <td>Tuesday</td>\n",
              "      <td>0 days 00:26:30</td>\n",
              "    </tr>\n",
              "    <tr>\n",
              "      <th>2</th>\n",
              "      <td>106203690</td>\n",
              "      <td>1</td>\n",
              "      <td>2017-12-15 07:26:56</td>\n",
              "      <td>2017-12-15 07:34:08</td>\n",
              "      <td>1</td>\n",
              "      <td>1.00</td>\n",
              "      <td>1</td>\n",
              "      <td>N</td>\n",
              "      <td>262</td>\n",
              "      <td>236</td>\n",
              "      <td>...</td>\n",
              "      <td>6.5</td>\n",
              "      <td>0.0</td>\n",
              "      <td>0.5</td>\n",
              "      <td>1.45</td>\n",
              "      <td>0.0</td>\n",
              "      <td>0.3</td>\n",
              "      <td>8.75</td>\n",
              "      <td>December</td>\n",
              "      <td>Friday</td>\n",
              "      <td>0 days 00:07:12</td>\n",
              "    </tr>\n",
              "    <tr>\n",
              "      <th>3</th>\n",
              "      <td>38942136</td>\n",
              "      <td>2</td>\n",
              "      <td>2017-05-07 13:17:59</td>\n",
              "      <td>2017-05-07 13:48:14</td>\n",
              "      <td>1</td>\n",
              "      <td>3.70</td>\n",
              "      <td>1</td>\n",
              "      <td>N</td>\n",
              "      <td>188</td>\n",
              "      <td>97</td>\n",
              "      <td>...</td>\n",
              "      <td>20.5</td>\n",
              "      <td>0.0</td>\n",
              "      <td>0.5</td>\n",
              "      <td>6.39</td>\n",
              "      <td>0.0</td>\n",
              "      <td>0.3</td>\n",
              "      <td>27.69</td>\n",
              "      <td>May</td>\n",
              "      <td>Sunday</td>\n",
              "      <td>0 days 00:30:15</td>\n",
              "    </tr>\n",
              "    <tr>\n",
              "      <th>4</th>\n",
              "      <td>30841670</td>\n",
              "      <td>2</td>\n",
              "      <td>2017-04-15 23:32:20</td>\n",
              "      <td>2017-04-15 23:49:03</td>\n",
              "      <td>1</td>\n",
              "      <td>4.37</td>\n",
              "      <td>1</td>\n",
              "      <td>N</td>\n",
              "      <td>4</td>\n",
              "      <td>112</td>\n",
              "      <td>...</td>\n",
              "      <td>16.5</td>\n",
              "      <td>0.5</td>\n",
              "      <td>0.5</td>\n",
              "      <td>0.00</td>\n",
              "      <td>0.0</td>\n",
              "      <td>0.3</td>\n",
              "      <td>17.80</td>\n",
              "      <td>April</td>\n",
              "      <td>Saturday</td>\n",
              "      <td>0 days 00:16:43</td>\n",
              "    </tr>\n",
              "    <tr>\n",
              "      <th>5</th>\n",
              "      <td>23345809</td>\n",
              "      <td>2</td>\n",
              "      <td>2017-03-25 20:34:11</td>\n",
              "      <td>2017-03-25 20:42:11</td>\n",
              "      <td>6</td>\n",
              "      <td>2.30</td>\n",
              "      <td>1</td>\n",
              "      <td>N</td>\n",
              "      <td>161</td>\n",
              "      <td>236</td>\n",
              "      <td>...</td>\n",
              "      <td>9.0</td>\n",
              "      <td>0.5</td>\n",
              "      <td>0.5</td>\n",
              "      <td>2.06</td>\n",
              "      <td>0.0</td>\n",
              "      <td>0.3</td>\n",
              "      <td>12.36</td>\n",
              "      <td>March</td>\n",
              "      <td>Saturday</td>\n",
              "      <td>0 days 00:08:00</td>\n",
              "    </tr>\n",
              "    <tr>\n",
              "      <th>6</th>\n",
              "      <td>37660487</td>\n",
              "      <td>2</td>\n",
              "      <td>2017-05-03 19:04:09</td>\n",
              "      <td>2017-05-03 20:03:47</td>\n",
              "      <td>1</td>\n",
              "      <td>12.83</td>\n",
              "      <td>1</td>\n",
              "      <td>N</td>\n",
              "      <td>79</td>\n",
              "      <td>241</td>\n",
              "      <td>...</td>\n",
              "      <td>47.5</td>\n",
              "      <td>1.0</td>\n",
              "      <td>0.5</td>\n",
              "      <td>9.86</td>\n",
              "      <td>0.0</td>\n",
              "      <td>0.3</td>\n",
              "      <td>59.16</td>\n",
              "      <td>May</td>\n",
              "      <td>Wednesday</td>\n",
              "      <td>0 days 00:59:38</td>\n",
              "    </tr>\n",
              "    <tr>\n",
              "      <th>7</th>\n",
              "      <td>69059411</td>\n",
              "      <td>2</td>\n",
              "      <td>2017-08-15 17:41:06</td>\n",
              "      <td>2017-08-15 18:03:05</td>\n",
              "      <td>1</td>\n",
              "      <td>2.98</td>\n",
              "      <td>1</td>\n",
              "      <td>N</td>\n",
              "      <td>237</td>\n",
              "      <td>114</td>\n",
              "      <td>...</td>\n",
              "      <td>16.0</td>\n",
              "      <td>1.0</td>\n",
              "      <td>0.5</td>\n",
              "      <td>1.78</td>\n",
              "      <td>0.0</td>\n",
              "      <td>0.3</td>\n",
              "      <td>19.58</td>\n",
              "      <td>August</td>\n",
              "      <td>Tuesday</td>\n",
              "      <td>0 days 00:21:59</td>\n",
              "    </tr>\n",
              "    <tr>\n",
              "      <th>8</th>\n",
              "      <td>8433159</td>\n",
              "      <td>2</td>\n",
              "      <td>2017-02-04 16:17:07</td>\n",
              "      <td>2017-02-04 16:29:14</td>\n",
              "      <td>1</td>\n",
              "      <td>1.20</td>\n",
              "      <td>1</td>\n",
              "      <td>N</td>\n",
              "      <td>234</td>\n",
              "      <td>249</td>\n",
              "      <td>...</td>\n",
              "      <td>9.0</td>\n",
              "      <td>0.0</td>\n",
              "      <td>0.5</td>\n",
              "      <td>0.00</td>\n",
              "      <td>0.0</td>\n",
              "      <td>0.3</td>\n",
              "      <td>9.80</td>\n",
              "      <td>February</td>\n",
              "      <td>Saturday</td>\n",
              "      <td>0 days 00:12:07</td>\n",
              "    </tr>\n",
              "    <tr>\n",
              "      <th>9</th>\n",
              "      <td>95294817</td>\n",
              "      <td>1</td>\n",
              "      <td>2017-11-10 15:20:29</td>\n",
              "      <td>2017-11-10 15:40:55</td>\n",
              "      <td>1</td>\n",
              "      <td>1.60</td>\n",
              "      <td>1</td>\n",
              "      <td>N</td>\n",
              "      <td>239</td>\n",
              "      <td>237</td>\n",
              "      <td>...</td>\n",
              "      <td>13.0</td>\n",
              "      <td>0.0</td>\n",
              "      <td>0.5</td>\n",
              "      <td>2.75</td>\n",
              "      <td>0.0</td>\n",
              "      <td>0.3</td>\n",
              "      <td>16.55</td>\n",
              "      <td>November</td>\n",
              "      <td>Friday</td>\n",
              "      <td>0 days 00:20:26</td>\n",
              "    </tr>\n",
              "  </tbody>\n",
              "</table>\n",
              "<p>10 rows × 21 columns</p>\n",
              "</div>"
            ],
            "text/plain": [
              "   Unnamed: 0  VendorID tpep_pickup_datetime tpep_dropoff_datetime  \\\n",
              "0    24870114         2  2017-03-25 08:55:43   2017-03-25 09:09:47   \n",
              "1    35634249         1  2017-04-11 14:53:28   2017-04-11 15:19:58   \n",
              "2   106203690         1  2017-12-15 07:26:56   2017-12-15 07:34:08   \n",
              "3    38942136         2  2017-05-07 13:17:59   2017-05-07 13:48:14   \n",
              "4    30841670         2  2017-04-15 23:32:20   2017-04-15 23:49:03   \n",
              "5    23345809         2  2017-03-25 20:34:11   2017-03-25 20:42:11   \n",
              "6    37660487         2  2017-05-03 19:04:09   2017-05-03 20:03:47   \n",
              "7    69059411         2  2017-08-15 17:41:06   2017-08-15 18:03:05   \n",
              "8     8433159         2  2017-02-04 16:17:07   2017-02-04 16:29:14   \n",
              "9    95294817         1  2017-11-10 15:20:29   2017-11-10 15:40:55   \n",
              "\n",
              "   passenger_count  trip_distance  RatecodeID store_and_fwd_flag  \\\n",
              "0                6           3.34           1                  N   \n",
              "1                1           1.80           1                  N   \n",
              "2                1           1.00           1                  N   \n",
              "3                1           3.70           1                  N   \n",
              "4                1           4.37           1                  N   \n",
              "5                6           2.30           1                  N   \n",
              "6                1          12.83           1                  N   \n",
              "7                1           2.98           1                  N   \n",
              "8                1           1.20           1                  N   \n",
              "9                1           1.60           1                  N   \n",
              "\n",
              "   PULocationID  DOLocationID  ...  fare_amount  extra  mta_tax  tip_amount  \\\n",
              "0           100           231  ...         13.0    0.0      0.5        2.76   \n",
              "1           186            43  ...         16.0    0.0      0.5        4.00   \n",
              "2           262           236  ...          6.5    0.0      0.5        1.45   \n",
              "3           188            97  ...         20.5    0.0      0.5        6.39   \n",
              "4             4           112  ...         16.5    0.5      0.5        0.00   \n",
              "5           161           236  ...          9.0    0.5      0.5        2.06   \n",
              "6            79           241  ...         47.5    1.0      0.5        9.86   \n",
              "7           237           114  ...         16.0    1.0      0.5        1.78   \n",
              "8           234           249  ...          9.0    0.0      0.5        0.00   \n",
              "9           239           237  ...         13.0    0.0      0.5        2.75   \n",
              "\n",
              "   tolls_amount  improvement_surcharge  total_amount     month        day  \\\n",
              "0           0.0                    0.3         16.56     March   Saturday   \n",
              "1           0.0                    0.3         20.80     April    Tuesday   \n",
              "2           0.0                    0.3          8.75  December     Friday   \n",
              "3           0.0                    0.3         27.69       May     Sunday   \n",
              "4           0.0                    0.3         17.80     April   Saturday   \n",
              "5           0.0                    0.3         12.36     March   Saturday   \n",
              "6           0.0                    0.3         59.16       May  Wednesday   \n",
              "7           0.0                    0.3         19.58    August    Tuesday   \n",
              "8           0.0                    0.3          9.80  February   Saturday   \n",
              "9           0.0                    0.3         16.55  November     Friday   \n",
              "\n",
              "    trip_duration  \n",
              "0 0 days 00:14:04  \n",
              "1 0 days 00:26:30  \n",
              "2 0 days 00:07:12  \n",
              "3 0 days 00:30:15  \n",
              "4 0 days 00:16:43  \n",
              "5 0 days 00:08:00  \n",
              "6 0 days 00:59:38  \n",
              "7 0 days 00:21:59  \n",
              "8 0 days 00:12:07  \n",
              "9 0 days 00:20:26  \n",
              "\n",
              "[10 rows x 21 columns]"
            ]
          },
          "execution_count": 52,
          "metadata": {},
          "output_type": "execute_result"
        }
      ],
      "source": [
        "\n",
        "df.head(10)"
      ]
    },
    {
      "cell_type": "markdown",
      "metadata": {
        "id": "U4HeITeOwXfo"
      },
      "source": [
        "### Task 4b. Conclusion\n",
        "\n",
        "Why is it important to conduct Exploratory Data Analysis? Why are the data visualizations provided in this notebook useful?\n"
      ]
    },
    {
      "cell_type": "markdown",
      "metadata": {
        "id": "5o3dV6NYzNSs"
      },
      "source": [
        "\n",
        "EDA helps a data professional to get to know the data, understand its outliers, clean its missing values, and prepare it for future modeling.\n",
        "\n",
        "Visualizations helped me understand, that this dataset has some outliers that we will need to make decisions on prior to designing a model.\n"
      ]
    }
  ],
  "metadata": {
    "colab": {
      "provenance": [],
      "include_colab_link": true
    },
    "kernelspec": {
      "display_name": "Python 3",
      "language": "python",
      "name": "python3"
    },
    "language_info": {
      "codemirror_mode": {
        "name": "ipython",
        "version": 3
      },
      "file_extension": ".py",
      "mimetype": "text/x-python",
      "name": "python",
      "nbconvert_exporter": "python",
      "pygments_lexer": "ipython3",
      "version": "3.7.6"
    }
  },
  "nbformat": 4,
  "nbformat_minor": 0
}